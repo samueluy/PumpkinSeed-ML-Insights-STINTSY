{
 "cells": [
  {
   "cell_type": "code",
   "execution_count": null,
   "metadata": {},
   "outputs": [],
   "source": []
  },
  {
   "cell_type": "markdown",
   "metadata": {},
   "source": [
    "## SECTION 1 \n",
    "### Introduction to the problem/task and dataset\n",
    "\n",
    "PumpkinSeed-ML-Insights is a comprehensive repository dedicated to the exploration and analysis of Turkish pumpkin seed varieties, with a focus on classifying whether a seed belongs to Urgup Sivrisi or Cercevelik species. This project demonstrates the knowledge of authors in data science and machine learning.\n",
    "\n",
    "Within this repository, you will find a Jupyter Notebook that serves as a self-explanatory document, guiding you through the entire process. This repository also contains three Python files, each implementing a different machine learning model: `knn_pumpkinseed.py`, `logistic_regression_pumkinseed.py`, and `neural_network_pumpkinseed.py`. There is also the `pumpkin_seeds.csv`, which contains the data and `Pumpkin_seeds.pdf`, which contains some description of the dataset.\n",
    "\n"
   ]
  },
  {
   "cell_type": "markdown",
   "metadata": {},
   "source": [
    "---\n",
    "## SECTION 2\n",
    "### Description of the dataset\n",
    "\n",
    "`pumpkin_seeds.csv` is a CSV file containing information about Pumpkin Seeds found in Turkey. \n",
    "\n",
    "This dataset came from the study `The use of machine learning methods in classification of pumpkin seeds (Cucurbita pepo L.).` by Koklu, M., Sarigil, S., & Ozbek, O. in 2021. In their paper, they used a product shooting box to obtain quality images of the pumpkin seeds. The authors converted the images to a gray tone and then to binary images. To convert the image data into a CSV file, they extracted 12 morphological features.\n",
    "\n",
    "Overall, the CSV file has 13 columns/features and 2500 rows. The first 12 columns are from the extracted morphological features, while the last column classifies whether it belongs to the Urgup Sivrisi or Cercevelik species. There are 2500 rows, representing a single seed used in the study. There are 1200 Urgup Sivrisi and 1300 Cercevelik species of pumpkin seeds. \n",
    "\n",
    "The features found in this CSV file are as follows:\n",
    "1. Area – Number of pixels within the borders of a pumpkin seed\n",
    "2. Perimeter – Circumference in pixels of a pumpkin seed\n",
    "3. Major_Axis_Length – Large axis distance of a pumpkin seed\n",
    "4. Minor_Axis_Length – Small axis distance of a pumpkin seed\n",
    "5. Convex_Area – Number of pixels of the smallest convex shell at the region formed by the\n",
    "pumpkin seed.\n",
    "6. Equiv_Diameter – Computed as !4𝑎⁄𝜋, where 𝑎 is the area of the pumpkin seed.\n",
    "7. Eccentricity – Eccentricity of a pumpkin seed\n",
    "8. Solidity – Convex condition of the pumpkin seeds\n",
    "9. Extent – Ratio of a pumpkin seed area to the bounding box pixels\n",
    "10. Roundness – Ovality of pumpkin seeds without considering the distortion of the edges.\n",
    "11. Aspect_Ration – Aspect ratio of the pumpkin seeds\n",
    "12. Compactness – Proportion of the area of the pumpkin seed relative to the area of the circle\n",
    "with the same circumference\n",
    "13. Class – Either Cercevelik or Urgup Sivrisi\n",
    "\n"
   ]
  },
  {
   "cell_type": "markdown",
   "metadata": {},
   "source": [
    "---\n",
    "## SECTION 3\n",
    "\n",
    "### List of Requirements"
   ]
  },
  {
   "cell_type": "markdown",
   "metadata": {},
   "source": [
    "---\n",
    "## SECTION 4\n",
    "\n",
    "### Data preprocessing and cleaning\n",
    "\n"
   ]
  },
  {
   "cell_type": "markdown",
   "metadata": {},
   "source": [
    "The first step is to address the encoding issues, especially in the \"Class\" column. The unique values in the \"Class\" column are showing encoding issues, as evidenced by the presence of escape characters like \\x82. These values are intended to represent the two species of pumpkin seeds. To correct this, we need to replace these incorrectly encoded strings with a correct format. We replaced the string class names with an integer value of 0 and 1."
   ]
  },
  {
   "cell_type": "code",
   "execution_count": 1,
   "metadata": {},
   "outputs": [],
   "source": [
    "import numpy as np\n",
    "import pandas as pd\n",
    "import csv"
   ]
  },
  {
   "cell_type": "code",
   "execution_count": 2,
   "metadata": {},
   "outputs": [
    {
     "data": {
      "text/plain": [
       "array([['56276', '888.242', '326.1485', ..., '1.4809', '0.8207', '0'],\n",
       "       ['76631', '1068.146', '417.1932', ..., '1.7811', '0.7487', '0'],\n",
       "       ['71623', '1082.987', '435.8328', ..., '2.0651', '0.6929', '0'],\n",
       "       ...,\n",
       "       ['87994', '1210.314', '507.22', ..., '2.2828', '0.6599', '1'],\n",
       "       ['80011', '1182.947', '501.9065', ..., '2.4513', '0.6359', '1'],\n",
       "       ['84934', '1159.933', '462.8951', ..., '1.9735', '0.7104', '1']],\n",
       "      dtype='<U11')"
      ]
     },
     "execution_count": 2,
     "metadata": {},
     "output_type": "execute_result"
    }
   ],
   "source": [
    "data = []\n",
    "\n",
    "with open('pumpkin_seeds.csv', 'r', encoding='utf-8', errors='replace') as csv_file:\n",
    "    raw_data = csv.reader(csv_file)\n",
    "\n",
    "    #Skip headers\n",
    "    next(raw_data)\n",
    "\n",
    "    #Store data into data array\n",
    "    for row in raw_data:\n",
    "        row_data = []\n",
    "        for i in range(13): #Convert errors into 1 or 2 (depending on their specie)\n",
    "            if i == 12 and row[i] == '�er�evelik':\n",
    "                row_data.append(int(0))\n",
    "            elif i == 12 and row[i] == '�rg�p Sivrisi':\n",
    "                row_data.append(int(1))\n",
    "            else:\n",
    "                row_data.append(row[i])\n",
    "\n",
    "        data.append(row_data)\n",
    "\n",
    "#Convert data into numpy array\n",
    "np_data = np.array(data)\n",
    "np_data\n"
   ]
  },
  {
   "cell_type": "markdown",
   "metadata": {},
   "source": [
    "### Data Scaling\n",
    "\n",
    "The numerical features are scaled using `StandardScaler` from `sklearn.preprocessing`. This ensures that all features have a mean of 0 and a standard deviation of 1, which is particularly important for many machine learning algorithms."
   ]
  },
  {
   "cell_type": "code",
   "execution_count": 3,
   "metadata": {},
   "outputs": [
    {
     "data": {
      "text/html": [
       "<div>\n",
       "<style scoped>\n",
       "    .dataframe tbody tr th:only-of-type {\n",
       "        vertical-align: middle;\n",
       "    }\n",
       "\n",
       "    .dataframe tbody tr th {\n",
       "        vertical-align: top;\n",
       "    }\n",
       "\n",
       "    .dataframe thead th {\n",
       "        text-align: right;\n",
       "    }\n",
       "</style>\n",
       "<table border=\"1\" class=\"dataframe\">\n",
       "  <thead>\n",
       "    <tr style=\"text-align: right;\">\n",
       "      <th></th>\n",
       "      <th>area</th>\n",
       "      <th>perimeter</th>\n",
       "      <th>major_axis_length</th>\n",
       "      <th>minor_axis_length</th>\n",
       "      <th>convex_area</th>\n",
       "      <th>equiv_diameter</th>\n",
       "      <th>eccentricity</th>\n",
       "      <th>solidity</th>\n",
       "      <th>extent</th>\n",
       "      <th>roundness</th>\n",
       "      <th>aspect_Ration</th>\n",
       "      <th>compactness</th>\n",
       "      <th>class</th>\n",
       "    </tr>\n",
       "  </thead>\n",
       "  <tbody>\n",
       "    <tr>\n",
       "      <th>0</th>\n",
       "      <td>-1.784703</td>\n",
       "      <td>-2.215755</td>\n",
       "      <td>-2.320224</td>\n",
       "      <td>-0.238536</td>\n",
       "      <td>-1.793218</td>\n",
       "      <td>-1.921174</td>\n",
       "      <td>-2.729935</td>\n",
       "      <td>0.202812</td>\n",
       "      <td>0.855406</td>\n",
       "      <td>1.873763</td>\n",
       "      <td>-1.775063</td>\n",
       "      <td>2.197280</td>\n",
       "      <td>0</td>\n",
       "    </tr>\n",
       "    <tr>\n",
       "      <th>1</th>\n",
       "      <td>-0.294780</td>\n",
       "      <td>-0.568804</td>\n",
       "      <td>-0.700916</td>\n",
       "      <td>0.362089</td>\n",
       "      <td>-0.307244</td>\n",
       "      <td>-0.259343</td>\n",
       "      <td>-0.739163</td>\n",
       "      <td>0.603626</td>\n",
       "      <td>0.359523</td>\n",
       "      <td>0.938377</td>\n",
       "      <td>-0.824864</td>\n",
       "      <td>0.840230</td>\n",
       "      <td>0</td>\n",
       "    </tr>\n",
       "    <tr>\n",
       "      <th>2</th>\n",
       "      <td>-0.661350</td>\n",
       "      <td>-0.432940</td>\n",
       "      <td>-0.369395</td>\n",
       "      <td>-0.633215</td>\n",
       "      <td>-0.642749</td>\n",
       "      <td>-0.645380</td>\n",
       "      <td>0.310476</td>\n",
       "      <td>-1.085518</td>\n",
       "      <td>0.768380</td>\n",
       "      <td>-0.431615</td>\n",
       "      <td>0.074059</td>\n",
       "      <td>-0.211483</td>\n",
       "      <td>0</td>\n",
       "    </tr>\n",
       "    <tr>\n",
       "      <th>3</th>\n",
       "      <td>-1.039412</td>\n",
       "      <td>-1.265424</td>\n",
       "      <td>-1.334616</td>\n",
       "      <td>-0.140076</td>\n",
       "      <td>-1.045689</td>\n",
       "      <td>-1.057939</td>\n",
       "      <td>-1.075756</td>\n",
       "      <td>0.202812</td>\n",
       "      <td>0.761812</td>\n",
       "      <td>1.020648</td>\n",
       "      <td>-1.035351</td>\n",
       "      <td>1.098447</td>\n",
       "      <td>0</td>\n",
       "    </tr>\n",
       "    <tr>\n",
       "      <th>4</th>\n",
       "      <td>-1.065105</td>\n",
       "      <td>-1.209626</td>\n",
       "      <td>-1.293272</td>\n",
       "      <td>-0.229276</td>\n",
       "      <td>-1.045762</td>\n",
       "      <td>-1.086548</td>\n",
       "      <td>-0.934033</td>\n",
       "      <td>-1.285925</td>\n",
       "      <td>-0.295634</td>\n",
       "      <td>0.755950</td>\n",
       "      <td>-0.950840</td>\n",
       "      <td>0.972166</td>\n",
       "      <td>0</td>\n",
       "    </tr>\n",
       "    <tr>\n",
       "      <th>...</th>\n",
       "      <td>...</td>\n",
       "      <td>...</td>\n",
       "      <td>...</td>\n",
       "      <td>...</td>\n",
       "      <td>...</td>\n",
       "      <td>...</td>\n",
       "      <td>...</td>\n",
       "      <td>...</td>\n",
       "      <td>...</td>\n",
       "      <td>...</td>\n",
       "      <td>...</td>\n",
       "      <td>...</td>\n",
       "      <td>...</td>\n",
       "    </tr>\n",
       "    <tr>\n",
       "      <th>2495</th>\n",
       "      <td>-0.074750</td>\n",
       "      <td>0.864479</td>\n",
       "      <td>1.361498</td>\n",
       "      <td>-1.518003</td>\n",
       "      <td>-0.081902</td>\n",
       "      <td>-0.033672</td>\n",
       "      <td>1.619204</td>\n",
       "      <td>0.345960</td>\n",
       "      <td>-3.356315</td>\n",
       "      <td>-2.223692</td>\n",
       "      <td>2.398914</td>\n",
       "      <td>-2.013344</td>\n",
       "      <td>1</td>\n",
       "    </tr>\n",
       "    <tr>\n",
       "      <th>2496</th>\n",
       "      <td>-0.805987</td>\n",
       "      <td>-0.420755</td>\n",
       "      <td>0.112758</td>\n",
       "      <td>-1.458572</td>\n",
       "      <td>-0.820566</td>\n",
       "      <td>-0.801398</td>\n",
       "      <td>1.089955</td>\n",
       "      <td>0.689514</td>\n",
       "      <td>-1.527131</td>\n",
       "      <td>-0.842970</td>\n",
       "      <td>1.176505</td>\n",
       "      <td>-1.146340</td>\n",
       "      <td>1</td>\n",
       "    </tr>\n",
       "    <tr>\n",
       "      <th>2497</th>\n",
       "      <td>0.536956</td>\n",
       "      <td>0.732689</td>\n",
       "      <td>0.900287</td>\n",
       "      <td>-0.154887</td>\n",
       "      <td>0.522763</td>\n",
       "      <td>0.572244</td>\n",
       "      <td>0.844154</td>\n",
       "      <td>0.718144</td>\n",
       "      <td>1.167385</td>\n",
       "      <td>-0.655177</td>\n",
       "      <td>0.763128</td>\n",
       "      <td>-0.833465</td>\n",
       "      <td>1</td>\n",
       "    </tr>\n",
       "    <tr>\n",
       "      <th>2498</th>\n",
       "      <td>-0.047375</td>\n",
       "      <td>0.482155</td>\n",
       "      <td>0.805782</td>\n",
       "      <td>-0.903370</td>\n",
       "      <td>-0.044043</td>\n",
       "      <td>-0.005893</td>\n",
       "      <td>1.154174</td>\n",
       "      <td>-0.140743</td>\n",
       "      <td>0.725688</td>\n",
       "      <td>-1.306191</td>\n",
       "      <td>1.296467</td>\n",
       "      <td>-1.285814</td>\n",
       "      <td>1</td>\n",
       "    </tr>\n",
       "    <tr>\n",
       "      <th>2499</th>\n",
       "      <td>0.312974</td>\n",
       "      <td>0.271471</td>\n",
       "      <td>0.111931</td>\n",
       "      <td>0.376291</td>\n",
       "      <td>0.310501</td>\n",
       "      <td>0.353867</td>\n",
       "      <td>0.027029</td>\n",
       "      <td>0.174182</td>\n",
       "      <td>0.702700</td>\n",
       "      <td>0.031607</td>\n",
       "      <td>-0.215875</td>\n",
       "      <td>0.118355</td>\n",
       "      <td>1</td>\n",
       "    </tr>\n",
       "  </tbody>\n",
       "</table>\n",
       "<p>2500 rows × 13 columns</p>\n",
       "</div>"
      ],
      "text/plain": [
       "          area  perimeter  major_axis_length  minor_axis_length  convex_area  \\\n",
       "0    -1.784703  -2.215755          -2.320224          -0.238536    -1.793218   \n",
       "1    -0.294780  -0.568804          -0.700916           0.362089    -0.307244   \n",
       "2    -0.661350  -0.432940          -0.369395          -0.633215    -0.642749   \n",
       "3    -1.039412  -1.265424          -1.334616          -0.140076    -1.045689   \n",
       "4    -1.065105  -1.209626          -1.293272          -0.229276    -1.045762   \n",
       "...        ...        ...                ...                ...          ...   \n",
       "2495 -0.074750   0.864479           1.361498          -1.518003    -0.081902   \n",
       "2496 -0.805987  -0.420755           0.112758          -1.458572    -0.820566   \n",
       "2497  0.536956   0.732689           0.900287          -0.154887     0.522763   \n",
       "2498 -0.047375   0.482155           0.805782          -0.903370    -0.044043   \n",
       "2499  0.312974   0.271471           0.111931           0.376291     0.310501   \n",
       "\n",
       "      equiv_diameter  eccentricity  solidity    extent  roundness  \\\n",
       "0          -1.921174     -2.729935  0.202812  0.855406   1.873763   \n",
       "1          -0.259343     -0.739163  0.603626  0.359523   0.938377   \n",
       "2          -0.645380      0.310476 -1.085518  0.768380  -0.431615   \n",
       "3          -1.057939     -1.075756  0.202812  0.761812   1.020648   \n",
       "4          -1.086548     -0.934033 -1.285925 -0.295634   0.755950   \n",
       "...              ...           ...       ...       ...        ...   \n",
       "2495       -0.033672      1.619204  0.345960 -3.356315  -2.223692   \n",
       "2496       -0.801398      1.089955  0.689514 -1.527131  -0.842970   \n",
       "2497        0.572244      0.844154  0.718144  1.167385  -0.655177   \n",
       "2498       -0.005893      1.154174 -0.140743  0.725688  -1.306191   \n",
       "2499        0.353867      0.027029  0.174182  0.702700   0.031607   \n",
       "\n",
       "      aspect_Ration  compactness class  \n",
       "0         -1.775063     2.197280     0  \n",
       "1         -0.824864     0.840230     0  \n",
       "2          0.074059    -0.211483     0  \n",
       "3         -1.035351     1.098447     0  \n",
       "4         -0.950840     0.972166     0  \n",
       "...             ...          ...   ...  \n",
       "2495       2.398914    -2.013344     1  \n",
       "2496       1.176505    -1.146340     1  \n",
       "2497       0.763128    -0.833465     1  \n",
       "2498       1.296467    -1.285814     1  \n",
       "2499      -0.215875     0.118355     1  \n",
       "\n",
       "[2500 rows x 13 columns]"
      ]
     },
     "execution_count": 3,
     "metadata": {},
     "output_type": "execute_result"
    }
   ],
   "source": [
    "from sklearn.preprocessing import StandardScaler\n",
    "from sklearn.model_selection import train_test_split\n",
    "\n",
    "# Replace 'original_column_names' with the actual list of column names\n",
    "original_column_names = ['area', 'perimeter', 'major_axis_length', 'minor_axis_length', \n",
    "                         'convex_area', 'equiv_diameter', 'eccentricity', 'solidity', \n",
    "                         'extent', 'roundness', 'aspect_Ration', 'compactness', 'class']\n",
    "\n",
    "# Convert the numpy array to a pandas DataFrame using the original column names\n",
    "pumpkin_seeds_data = pd.DataFrame(np_data, columns=original_column_names)\n",
    "\n",
    "# Selecting only the numerical features for scaling\n",
    "numerical_features = pumpkin_seeds_data.iloc[:, :-1]\n",
    "\n",
    "# Initializing the Standard Scaler\n",
    "scaler = StandardScaler()\n",
    "\n",
    "# Scaling the numerical features\n",
    "scaled_numerical_features = scaler.fit_transform(numerical_features)\n",
    "\n",
    "# Creating a new DataFrame with scaled values using the original column names (excluding 'Class')\n",
    "scaled_numerical_df = pd.DataFrame(scaled_numerical_features, columns=original_column_names[:-1])\n",
    "\n",
    "# Adding the non-numerical column ('Class') back to the DataFrame\n",
    "scaled_pumpkin_seeds_data = pd.concat([scaled_numerical_df, pumpkin_seeds_data['class']], axis=1)\n",
    "\n",
    "scaled_pumpkin_seeds_data"
   ]
  },
  {
   "cell_type": "markdown",
   "metadata": {},
   "source": [
    "After cleaning the data, it is now time to define our X and y variables. The X variable will hold the features, while the y variable contains our target. "
   ]
  },
  {
   "cell_type": "code",
   "execution_count": 4,
   "metadata": {},
   "outputs": [],
   "source": [
    "# Creating the feature set 'X' and the target 'y'\n",
    "X = scaled_pumpkin_seeds_data.iloc[:, :-1]  # All columns except the last one\n",
    "y = scaled_pumpkin_seeds_data['class']      # Only the last column"
   ]
  },
  {
   "cell_type": "markdown",
   "metadata": {},
   "source": [
    "Let's separate the training from the test set. "
   ]
  },
  {
   "cell_type": "code",
   "execution_count": 5,
   "metadata": {},
   "outputs": [],
   "source": [
    "X_train, X_test, y_train, y_test = train_test_split(X, y, random_state=42, stratify=y)"
   ]
  },
  {
   "cell_type": "markdown",
   "metadata": {},
   "source": [
    "---------------------------------------------------------------------------\n",
    "## SECTION 5 - Exploratory Data Analysis (EDA)"
   ]
  },
  {
   "cell_type": "markdown",
   "metadata": {},
   "source": [
    "Perform exploratory data analysis comprehensively to gain a good understanding of your dataset.\n",
    "In this section of the notebook, you must present relevant numerical summaries and\n",
    "visualizations. Make sure that each code is accompanied by a brief explanation. The whole\n",
    "process should be supported with verbose textual descriptions of your procedures and findings."
   ]
  },
  {
   "cell_type": "code",
   "execution_count": null,
   "metadata": {},
   "outputs": [],
   "source": []
  },
  {
   "cell_type": "markdown",
   "metadata": {},
   "source": [
    "---------------------------------------------------------------------------\n",
    "## SECTION 6 - Models"
   ]
  },
  {
   "cell_type": "markdown",
   "metadata": {},
   "source": [
    "### kNN"
   ]
  },
  {
   "cell_type": "code",
   "execution_count": 6,
   "metadata": {},
   "outputs": [
    {
     "name": "stdout",
     "output_type": "stream",
     "text": [
      "(2500, 13)\n",
      "testbryce\n"
     ]
    }
   ],
   "source": [
    "print(np_data.shape)\n",
    "print(\"testbryce\")\n"
   ]
  },
  {
   "cell_type": "markdown",
   "metadata": {},
   "source": [
    "### Logistic Regression"
   ]
  },
  {
   "cell_type": "markdown",
   "metadata": {},
   "source": [
    "### Naive Bayes"
   ]
  }
 ],
 "metadata": {
  "kernelspec": {
   "display_name": "Python 3 (ipykernel)",
   "language": "python",
   "name": "python3"
  },
  "language_info": {
   "codemirror_mode": {
    "name": "ipython",
    "version": 3
   },
   "file_extension": ".py",
   "mimetype": "text/x-python",
   "name": "python",
   "nbconvert_exporter": "python",
   "pygments_lexer": "ipython3",
   "version": "3.9.18"
  }
 },
 "nbformat": 4,
 "nbformat_minor": 2
}
