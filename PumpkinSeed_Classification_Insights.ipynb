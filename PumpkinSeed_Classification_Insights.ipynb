{
 "cells": [
  {
   "cell_type": "code",
   "execution_count": null,
   "metadata": {},
   "outputs": [],
   "source": []
  },
  {
   "cell_type": "markdown",
   "metadata": {},
   "source": [
    "## SECTION 1 \n",
    "### Introduction to the problem/task and dataset\n",
    "\n",
    "PumpkinSeed-ML-Insights is a comprehensive repository dedicated to the exploration and analysis of Turkish pumpkin seed varieties, with a focus on classifying whether a seed belongs to Urgup Sivrisi or Cercevelik species. This project demonstrates the knowledge of authors in data science and machine learning.\n",
    "\n",
    "Within this repository, you will find a Jupyter Notebook that serves as a self-explanatory document, guiding you through the entire process. This repository also contains three Python files, each implementing a different machine learning model: `knn_pumpkinseed.py`, `logistic_regression_pumkinseed.py`, and `neural_network_pumpkinseed.py`. There is also the `pumpkin_seeds.csv`, which contains the data and `Pumpkin_seeds.pdf`, which contains some description of the dataset.\n",
    "\n"
   ]
  },
  {
   "cell_type": "markdown",
   "metadata": {},
   "source": [
    "---\n",
    "## SECTION 2\n",
    "### Description of the dataset\n",
    "\n",
    "`pumpkin_seeds.csv` is a CSV file containing information about Pumpkin Seeds found in Turkey. \n",
    "\n",
    "This dataset came from the study `The use of machine learning methods in classification of pumpkin seeds (Cucurbita pepo L.).` by Koklu, M., Sarigil, S., & Ozbek, O. in 2021. In their paper, they used a product shooting box to obtain quality images of the pumpkin seeds. The authors converted the images to a gray tone and then to binary images. To convert the image data into a CSV file, they extracted 12 morphological features.\n",
    "\n",
    "Overall, the CSV file has 13 columns/features and 2500 rows. The first 12 columns are from the extracted morphological features, while the last column classifies whether it belongs to the Urgup Sivrisi or Cercevelik species. There are 2500 rows, representing a single seed used in the study. There are 1200 Urgup Sivrisi and 1300 Cercevelik species of pumpkin seeds. \n",
    "\n",
    "The features found in this CSV file are as follows:\n",
    "1. Area – Number of pixels within the borders of a pumpkin seed\n",
    "2. Perimeter – Circumference in pixels of a pumpkin seed\n",
    "3. Major_Axis_Length – Large axis distance of a pumpkin seed\n",
    "4. Minor_Axis_Length – Small axis distance of a pumpkin seed\n",
    "5. Convex_Area – Number of pixels of the smallest convex shell at the region formed by the\n",
    "pumpkin seed.\n",
    "6. Equiv_Diameter – Computed as !4𝑎⁄𝜋, where 𝑎 is the area of the pumpkin seed.\n",
    "7. Eccentricity – Eccentricity of a pumpkin seed\n",
    "8. Solidity – Convex condition of the pumpkin seeds\n",
    "9. Extent – Ratio of a pumpkin seed area to the bounding box pixels\n",
    "10. Roundness – Ovality of pumpkin seeds without considering the distortion of the edges.\n",
    "11. Aspect_Ration – Aspect ratio of the pumpkin seeds\n",
    "12. Compactness – Proportion of the area of the pumpkin seed relative to the area of the circle\n",
    "with the same circumference\n",
    "13. Class – Either Cercevelik or Urgup Sivrisi\n",
    "\n"
   ]
  },
  {
   "cell_type": "markdown",
   "metadata": {},
   "source": [
    "---\n",
    "## SECTION 3\n",
    "\n",
    "### List of Requirements"
   ]
  },
  {
   "cell_type": "markdown",
   "metadata": {},
   "source": [
    "---\n",
    "## SECTION 4\n",
    "\n",
    "### Data preprocessing and cleaning\n",
    "\n"
   ]
  },
  {
   "cell_type": "code",
   "execution_count": 1,
   "metadata": {},
   "outputs": [],
   "source": [
    "import numpy as np\n",
    "import pandas as pd\n",
    "import csv\n"
   ]
  },
  {
   "cell_type": "code",
   "execution_count": 2,
   "metadata": {},
   "outputs": [
    {
     "data": {
      "text/plain": [
       "array([['56276', '888.242', '326.1485', ..., '1.4809', '0.8207', '0'],\n",
       "       ['76631', '1068.146', '417.1932', ..., '1.7811', '0.7487', '0'],\n",
       "       ['71623', '1082.987', '435.8328', ..., '2.0651', '0.6929', '0'],\n",
       "       ...,\n",
       "       ['87994', '1210.314', '507.22', ..., '2.2828', '0.6599', '1'],\n",
       "       ['80011', '1182.947', '501.9065', ..., '2.4513', '0.6359', '1'],\n",
       "       ['84934', '1159.933', '462.8951', ..., '1.9735', '0.7104', '1']],\n",
       "      dtype='<U11')"
      ]
     },
     "execution_count": 2,
     "metadata": {},
     "output_type": "execute_result"
    }
   ],
   "source": [
    "data = []\n",
    "\n",
    "with open('pumpkin_seeds.csv', 'r', encoding='utf-8', errors='replace') as csv_file:\n",
    "    raw_data = csv.reader(csv_file)\n",
    "\n",
    "    #Skip headers\n",
    "    next(raw_data)\n",
    "\n",
    "    #Store data into data array\n",
    "    for row in raw_data:\n",
    "        row_data = []\n",
    "        for i in range(13): #Convert errors into 1 or 2 (depending on their specie)\n",
    "            if i == 12 and row[i] == '�er�evelik':\n",
    "                row_data.append(int(0))\n",
    "            elif i == 12 and row[i] == '�rg�p Sivrisi':\n",
    "                row_data.append(int(1))\n",
    "            else:\n",
    "                row_data.append(row[i])\n",
    "\n",
    "        data.append(row_data)\n",
    "\n",
    "#Convert data into numpy array\n",
    "np_data = np.array(data)\n",
    "np_data\n",
    "\n"
   ]
  },
  {
   "cell_type": "markdown",
   "metadata": {},
   "source": [
    "The first step is to address the encoding issues, especially in the \"Class\" column. The unique values in the \"Class\" column are showing encoding issues, as evidenced by the presence of escape characters like \\x82. These values are intended to represent the two species of pumpkin seeds. To correct this, we need to replace these incorrectly encoded strings with a correct format. We replaced the string class names with an integer value of 0 and 1."
   ]
  },
  {
   "cell_type": "markdown",
   "metadata": {},
   "source": [
    "### Data Scaling\n",
    "\n",
    "The numerical features are scaled using `StandardScaler` from `sklearn.preprocessing`. This ensures that all features have a mean of 0 and a standard deviation of 1, which is particularly important for many machine learning algorithms."
   ]
  },
  {
   "cell_type": "code",
   "execution_count": 3,
   "metadata": {},
   "outputs": [],
   "source": [
    "from sklearn.preprocessing import StandardScaler\n",
    "from sklearn.model_selection import train_test_split\n",
    "\n",
    "# Replace 'original_column_names' with the actual list of column names\n",
    "original_column_names = ['area', 'perimeter', 'major_axis_length', 'minor_axis_length',\n",
    "                         'convex_area', 'equiv_diameter', 'eccentricity', 'solidity',\n",
    "                         'extent', 'roundness', 'aspect_Ration', 'compactness', 'class']\n",
    "\n",
    "# Convert the numpy array to a pandas DataFrame using the original column names\n",
    "pumpkin_seeds_data = pd.DataFrame(np_data, columns=original_column_names)\n",
    "\n",
    "# Selecting only the numerical features for scaling\n",
    "numerical_features = pumpkin_seeds_data.iloc[:, :-1]\n",
    "\n",
    "# Initializing the Standard Scaler\n",
    "scaler = StandardScaler()\n",
    "\n",
    "# Scaling the numerical features\n",
    "scaled_numerical_features = scaler.fit_transform(numerical_features)\n",
    "\n",
    "# Creating a new DataFrame with scaled values using the original column names (excluding 'Class')\n",
    "scaled_numerical_df = pd.DataFrame(scaled_numerical_features, columns=original_column_names[:-1])\n",
    "\n",
    "# Adding the non-numerical column ('Class') back to the DataFrame\n",
    "scaled_pumpkin_seeds_data = pd.concat([scaled_numerical_df, pumpkin_seeds_data['class']], axis=1)\n",
    "\n",
    "scaled_pumpkin_seeds_data\n",
    "\n",
    "# Creating the feature set 'X' and the target 'y'\n",
    "X = scaled_pumpkin_seeds_data.iloc[:, :-1]  # All columns except the last one\n",
    "y = scaled_pumpkin_seeds_data['class']      # Only the last column\n",
    "\n",
    "X_train, X_test, y_train, y_test = train_test_split(X, y, random_state=42, stratify=y)\n",
    "\n"
   ]
  },
  {
   "cell_type": "markdown",
   "metadata": {},
   "source": [
    "---------------------------------------------------------------------------\n",
    "## SECTION 5 - Exploratory Data Analysis (EDA)"
   ]
  },
  {
   "cell_type": "markdown",
   "metadata": {},
   "source": [
    "---------------------------------------------------------------------------\n",
    "## SECTION 6 - Model training"
   ]
  },
  {
   "cell_type": "markdown",
   "metadata": {},
   "source": [
    "### kNN"
   ]
  },
  {
   "cell_type": "code",
   "execution_count": 4,
   "metadata": {},
   "outputs": [
    {
     "name": "stdout",
     "output_type": "stream",
     "text": [
      "(2500, 13)\n",
      "testbryce\n"
     ]
    }
   ],
   "source": [
    "print(np_data.shape)\n",
    "print(\"testbryce\")\n"
   ]
  },
  {
   "cell_type": "markdown",
   "metadata": {},
   "source": [
    "### Logistic Regression"
   ]
  },
  {
   "cell_type": "markdown",
   "metadata": {},
   "source": [
    "### Naive Bayes"
   ]
  },
  {
   "cell_type": "code",
   "execution_count": 5,
   "metadata": {},
   "outputs": [],
   "source": [
    "from sklearn.naive_bayes import GaussianNB\n"
   ]
  },
  {
   "cell_type": "code",
   "execution_count": 6,
   "metadata": {},
   "outputs": [],
   "source": [
    "seed_nb = GaussianNB()\n"
   ]
  },
  {
   "cell_type": "code",
   "execution_count": 7,
   "metadata": {},
   "outputs": [
    {
     "data": {
      "text/html": [
       "<style>#sk-container-id-1 {color: black;}#sk-container-id-1 pre{padding: 0;}#sk-container-id-1 div.sk-toggleable {background-color: white;}#sk-container-id-1 label.sk-toggleable__label {cursor: pointer;display: block;width: 100%;margin-bottom: 0;padding: 0.3em;box-sizing: border-box;text-align: center;}#sk-container-id-1 label.sk-toggleable__label-arrow:before {content: \"▸\";float: left;margin-right: 0.25em;color: #696969;}#sk-container-id-1 label.sk-toggleable__label-arrow:hover:before {color: black;}#sk-container-id-1 div.sk-estimator:hover label.sk-toggleable__label-arrow:before {color: black;}#sk-container-id-1 div.sk-toggleable__content {max-height: 0;max-width: 0;overflow: hidden;text-align: left;background-color: #f0f8ff;}#sk-container-id-1 div.sk-toggleable__content pre {margin: 0.2em;color: black;border-radius: 0.25em;background-color: #f0f8ff;}#sk-container-id-1 input.sk-toggleable__control:checked~div.sk-toggleable__content {max-height: 200px;max-width: 100%;overflow: auto;}#sk-container-id-1 input.sk-toggleable__control:checked~label.sk-toggleable__label-arrow:before {content: \"▾\";}#sk-container-id-1 div.sk-estimator input.sk-toggleable__control:checked~label.sk-toggleable__label {background-color: #d4ebff;}#sk-container-id-1 div.sk-label input.sk-toggleable__control:checked~label.sk-toggleable__label {background-color: #d4ebff;}#sk-container-id-1 input.sk-hidden--visually {border: 0;clip: rect(1px 1px 1px 1px);clip: rect(1px, 1px, 1px, 1px);height: 1px;margin: -1px;overflow: hidden;padding: 0;position: absolute;width: 1px;}#sk-container-id-1 div.sk-estimator {font-family: monospace;background-color: #f0f8ff;border: 1px dotted black;border-radius: 0.25em;box-sizing: border-box;margin-bottom: 0.5em;}#sk-container-id-1 div.sk-estimator:hover {background-color: #d4ebff;}#sk-container-id-1 div.sk-parallel-item::after {content: \"\";width: 100%;border-bottom: 1px solid gray;flex-grow: 1;}#sk-container-id-1 div.sk-label:hover label.sk-toggleable__label {background-color: #d4ebff;}#sk-container-id-1 div.sk-serial::before {content: \"\";position: absolute;border-left: 1px solid gray;box-sizing: border-box;top: 0;bottom: 0;left: 50%;z-index: 0;}#sk-container-id-1 div.sk-serial {display: flex;flex-direction: column;align-items: center;background-color: white;padding-right: 0.2em;padding-left: 0.2em;position: relative;}#sk-container-id-1 div.sk-item {position: relative;z-index: 1;}#sk-container-id-1 div.sk-parallel {display: flex;align-items: stretch;justify-content: center;background-color: white;position: relative;}#sk-container-id-1 div.sk-item::before, #sk-container-id-1 div.sk-parallel-item::before {content: \"\";position: absolute;border-left: 1px solid gray;box-sizing: border-box;top: 0;bottom: 0;left: 50%;z-index: -1;}#sk-container-id-1 div.sk-parallel-item {display: flex;flex-direction: column;z-index: 1;position: relative;background-color: white;}#sk-container-id-1 div.sk-parallel-item:first-child::after {align-self: flex-end;width: 50%;}#sk-container-id-1 div.sk-parallel-item:last-child::after {align-self: flex-start;width: 50%;}#sk-container-id-1 div.sk-parallel-item:only-child::after {width: 0;}#sk-container-id-1 div.sk-dashed-wrapped {border: 1px dashed gray;margin: 0 0.4em 0.5em 0.4em;box-sizing: border-box;padding-bottom: 0.4em;background-color: white;}#sk-container-id-1 div.sk-label label {font-family: monospace;font-weight: bold;display: inline-block;line-height: 1.2em;}#sk-container-id-1 div.sk-label-container {text-align: center;}#sk-container-id-1 div.sk-container {/* jupyter's `normalize.less` sets `[hidden] { display: none; }` but bootstrap.min.css set `[hidden] { display: none !important; }` so we also need the `!important` here to be able to override the default hidden behavior on the sphinx rendered scikit-learn.org. See: https://github.com/scikit-learn/scikit-learn/issues/21755 */display: inline-block !important;position: relative;}#sk-container-id-1 div.sk-text-repr-fallback {display: none;}</style><div id=\"sk-container-id-1\" class=\"sk-top-container\"><div class=\"sk-text-repr-fallback\"><pre>GaussianNB()</pre><b>In a Jupyter environment, please rerun this cell to show the HTML representation or trust the notebook. <br />On GitHub, the HTML representation is unable to render, please try loading this page with nbviewer.org.</b></div><div class=\"sk-container\" hidden><div class=\"sk-item\"><div class=\"sk-estimator sk-toggleable\"><input class=\"sk-toggleable__control sk-hidden--visually\" id=\"sk-estimator-id-1\" type=\"checkbox\" checked><label for=\"sk-estimator-id-1\" class=\"sk-toggleable__label sk-toggleable__label-arrow\">GaussianNB</label><div class=\"sk-toggleable__content\"><pre>GaussianNB()</pre></div></div></div></div></div>"
      ],
      "text/plain": [
       "GaussianNB()"
      ]
     },
     "execution_count": 7,
     "metadata": {},
     "output_type": "execute_result"
    }
   ],
   "source": [
    "seed_nb.fit(X_train, y_train)\n"
   ]
  },
  {
   "cell_type": "code",
   "execution_count": 8,
   "metadata": {},
   "outputs": [
    {
     "data": {
      "text/plain": [
       "array(['1', '1', '0', ..., '0', '1', '0'], dtype='<U1')"
      ]
     },
     "execution_count": 8,
     "metadata": {},
     "output_type": "execute_result"
    }
   ],
   "source": [
    "predictions = seed_nb.predict(X_train)\n",
    "predictions\n"
   ]
  },
  {
   "cell_type": "code",
   "execution_count": 9,
   "metadata": {},
   "outputs": [],
   "source": [
    "def compute_accuracy(predictions, actual):\n",
    "    return (np.sum(predictions == actual)/len(actual)) * 100\n"
   ]
  },
  {
   "cell_type": "code",
   "execution_count": 10,
   "metadata": {},
   "outputs": [
    {
     "name": "stdout",
     "output_type": "stream",
     "text": [
      "Training accuracy:  87.36 %\n"
     ]
    }
   ],
   "source": [
    "print(\"Training accuracy: \", compute_accuracy(predictions, y_train), \"%\")\n"
   ]
  },
  {
   "cell_type": "code",
   "execution_count": 11,
   "metadata": {},
   "outputs": [
    {
     "data": {
      "text/plain": [
       "array(['0', '0', '1', '1', '0', '0', '0', '0', '0', '0', '1', '0', '1',\n",
       "       '1', '1', '0', '1', '1', '1', '1', '1', '0', '1', '0', '1', '1',\n",
       "       '0', '1', '0', '0', '0', '1', '0', '0', '1', '1', '1', '1', '0',\n",
       "       '1', '0', '0', '1', '0', '0', '0', '0', '0', '1', '1', '0', '0',\n",
       "       '0', '0', '0', '0', '0', '0', '0', '0', '0', '1', '1', '0', '1',\n",
       "       '0', '0', '0', '1', '0', '0', '1', '1', '0', '1', '0', '1', '0',\n",
       "       '0', '0', '1', '0', '0', '1', '1', '0', '1', '0', '0', '1', '0',\n",
       "       '1', '1', '1', '0', '1', '1', '0', '1', '0', '0', '0', '1', '0',\n",
       "       '0', '1', '1', '0', '0', '0', '0', '0', '0', '0', '0', '0', '1',\n",
       "       '0', '1', '1', '1', '0', '1', '1', '0', '1', '0', '1', '1', '0',\n",
       "       '1', '1', '0', '1', '0', '1', '1', '0', '1', '1', '1', '1', '1',\n",
       "       '1', '1', '1', '1', '1', '1', '0', '0', '0', '0', '0', '0', '1',\n",
       "       '0', '0', '0', '1', '0', '1', '0', '1', '0', '0', '0', '1', '1',\n",
       "       '0', '0', '1', '0', '1', '1', '1', '1', '0', '0', '0', '0', '0',\n",
       "       '1', '1', '0', '0', '0', '0', '0', '1', '0', '1', '0', '0', '0',\n",
       "       '1', '0', '0', '1', '0', '0', '0', '0', '1', '0', '0', '1', '0',\n",
       "       '0', '0', '0', '0', '0', '1', '1', '0', '1', '1', '0', '0', '0',\n",
       "       '0', '0', '0', '0', '1', '0', '0', '0', '0', '1', '0', '0', '0',\n",
       "       '0', '1', '0', '0', '0', '1', '0', '0', '0', '1', '1', '0', '1',\n",
       "       '1', '1', '1', '1', '1', '1', '1', '1', '1', '1', '1', '1', '0',\n",
       "       '0', '0', '1', '1', '0', '0', '0', '1', '0', '1', '0', '0', '1',\n",
       "       '0', '0', '0', '0', '1', '0', '1', '0', '1', '0', '0', '1', '0',\n",
       "       '0', '0', '0', '1', '0', '0', '1', '1', '1', '0', '0', '0', '0',\n",
       "       '1', '0', '0', '0', '0', '0', '0', '1', '1', '0', '0', '1', '0',\n",
       "       '0', '0', '0', '1', '1', '1', '1', '0', '1', '1', '1', '0', '1',\n",
       "       '1', '1', '1', '1', '1', '0', '1', '1', '0', '1', '0', '1', '1',\n",
       "       '1', '1', '0', '1', '0', '0', '1', '1', '0', '0', '0', '0', '0',\n",
       "       '1', '1', '0', '1', '0', '0', '0', '0', '1', '0', '1', '0', '1',\n",
       "       '0', '1', '1', '0', '0', '1', '1', '0', '1', '0', '1', '0', '0',\n",
       "       '0', '1', '1', '0', '0', '0', '0', '0', '1', '0', '0', '1', '1',\n",
       "       '0', '0', '1', '0', '0', '1', '1', '1', '1', '1', '1', '1', '1',\n",
       "       '0', '0', '1', '1', '1', '1', '0', '1', '1', '0', '0', '0', '0',\n",
       "       '1', '1', '0', '1', '0', '1', '0', '1', '0', '1', '0', '0', '1',\n",
       "       '0', '1', '0', '0', '0', '0', '1', '1', '1', '0', '1', '0', '0',\n",
       "       '0', '1', '1', '0', '1', '0', '0', '0', '0', '0', '0', '0', '0',\n",
       "       '1', '0', '1', '1', '1', '1', '1', '1', '0', '0', '1', '0', '0',\n",
       "       '1', '1', '1', '1', '0', '1', '0', '0', '1', '0', '0', '0', '1',\n",
       "       '0', '1', '0', '0', '1', '1', '0', '1', '1', '1', '1', '0', '0',\n",
       "       '0', '1', '1', '0', '0', '1', '1', '0', '0', '1', '1', '1', '0',\n",
       "       '0', '0', '0', '1', '1', '0', '1', '1', '1', '0', '0', '1', '1',\n",
       "       '0', '0', '1', '1', '0', '1', '0', '1', '0', '0', '1', '0', '0',\n",
       "       '1', '0', '0', '0', '1', '1', '1', '1', '1', '1', '1', '1', '1',\n",
       "       '1', '1', '0', '0', '1', '0', '1', '0', '0', '0', '1', '0', '1',\n",
       "       '0', '1', '0', '0', '1', '0', '0', '0', '0', '0', '0', '0', '0',\n",
       "       '1', '1', '1', '0', '0', '0', '1', '1', '0', '0', '1', '1', '0',\n",
       "       '0', '1', '1', '0', '0', '1', '1', '0', '1', '1', '0', '0', '0',\n",
       "       '1', '1', '0', '0', '0', '0', '1', '1', '1', '0', '0', '0', '1',\n",
       "       '0', '1', '1', '1', '0', '1', '0', '1', '0', '1', '0', '0', '0',\n",
       "       '1'], dtype='<U1')"
      ]
     },
     "execution_count": 11,
     "metadata": {},
     "output_type": "execute_result"
    }
   ],
   "source": [
    "predictions = seed_nb.predict(X_test)\n",
    "predictions\n"
   ]
  },
  {
   "cell_type": "code",
   "execution_count": 12,
   "metadata": {},
   "outputs": [
    {
     "name": "stdout",
     "output_type": "stream",
     "text": [
      "Test accuracy:  86.08 %\n"
     ]
    }
   ],
   "source": [
    "print(\"Test accuracy: \", compute_accuracy(predictions, y_test), \"%\")\n"
   ]
  },
  {
   "cell_type": "code",
   "execution_count": 13,
   "metadata": {},
   "outputs": [
    {
     "data": {
      "text/plain": [
       "array([975., 900.])"
      ]
     },
     "execution_count": 13,
     "metadata": {},
     "output_type": "execute_result"
    }
   ],
   "source": [
    "seed_nb.class_count_\n"
   ]
  },
  {
   "cell_type": "code",
   "execution_count": 14,
   "metadata": {},
   "outputs": [
    {
     "data": {
      "text/plain": [
       "array([0.52, 0.48])"
      ]
     },
     "execution_count": 14,
     "metadata": {},
     "output_type": "execute_result"
    }
   ],
   "source": [
    "seed_nb.class_prior_\n"
   ]
  },
  {
   "cell_type": "code",
   "execution_count": 15,
   "metadata": {},
   "outputs": [],
   "source": [
    "X_train_val, X_test, y_train_val, y_test = train_test_split(X, y, test_size=0.2, stratify=y, random_state=42)\n"
   ]
  },
  {
   "cell_type": "code",
   "execution_count": 16,
   "metadata": {},
   "outputs": [],
   "source": [
    "X_train, X_validation, y_train, y_validation = train_test_split(X_train_val, y_train_val, test_size=0.25, stratify=y_train_val, random_state=42)\n"
   ]
  },
  {
   "cell_type": "code",
   "execution_count": 17,
   "metadata": {},
   "outputs": [],
   "source": [
    "from sklearn.model_selection import ParameterGrid\n"
   ]
  },
  {
   "cell_type": "code",
   "execution_count": 18,
   "metadata": {},
   "outputs": [],
   "source": [
    "seed_nb = GaussianNB()\n"
   ]
  },
  {
   "cell_type": "code",
   "execution_count": 19,
   "metadata": {},
   "outputs": [
    {
     "data": {
      "text/plain": [
       "{'priors': None, 'var_smoothing': 1e-09}"
      ]
     },
     "execution_count": 19,
     "metadata": {},
     "output_type": "execute_result"
    }
   ],
   "source": [
    "seed_nb.get_params()\n"
   ]
  },
  {
   "cell_type": "code",
   "execution_count": 20,
   "metadata": {},
   "outputs": [],
   "source": [
    "hyperparameters = [{\n",
    "    'var_smoothing': [1e-12, 1e-11, 1e-10, 1e-9, 1e-8, 1e-7, 1e-6],\n",
    "    'priors': [None, [0.1, 0.9], [0.2, 0.8], [0.3, 0.7], [0.6, 0.4], [0.5, 0.5], [0.6, 0.4], [0.7, 0.3], [0.8, 0.2], [0.9, 0.1]]\n",
    "}]\n"
   ]
  },
  {
   "cell_type": "code",
   "execution_count": 21,
   "metadata": {},
   "outputs": [
    {
     "data": {
      "text/plain": [
       "[{'priors': None, 'var_smoothing': 1e-12},\n",
       " {'priors': None, 'var_smoothing': 1e-11},\n",
       " {'priors': None, 'var_smoothing': 1e-10},\n",
       " {'priors': None, 'var_smoothing': 1e-09},\n",
       " {'priors': None, 'var_smoothing': 1e-08},\n",
       " {'priors': None, 'var_smoothing': 1e-07},\n",
       " {'priors': None, 'var_smoothing': 1e-06},\n",
       " {'priors': [0.1, 0.9], 'var_smoothing': 1e-12},\n",
       " {'priors': [0.1, 0.9], 'var_smoothing': 1e-11},\n",
       " {'priors': [0.1, 0.9], 'var_smoothing': 1e-10},\n",
       " {'priors': [0.1, 0.9], 'var_smoothing': 1e-09},\n",
       " {'priors': [0.1, 0.9], 'var_smoothing': 1e-08},\n",
       " {'priors': [0.1, 0.9], 'var_smoothing': 1e-07},\n",
       " {'priors': [0.1, 0.9], 'var_smoothing': 1e-06},\n",
       " {'priors': [0.2, 0.8], 'var_smoothing': 1e-12},\n",
       " {'priors': [0.2, 0.8], 'var_smoothing': 1e-11},\n",
       " {'priors': [0.2, 0.8], 'var_smoothing': 1e-10},\n",
       " {'priors': [0.2, 0.8], 'var_smoothing': 1e-09},\n",
       " {'priors': [0.2, 0.8], 'var_smoothing': 1e-08},\n",
       " {'priors': [0.2, 0.8], 'var_smoothing': 1e-07},\n",
       " {'priors': [0.2, 0.8], 'var_smoothing': 1e-06},\n",
       " {'priors': [0.3, 0.7], 'var_smoothing': 1e-12},\n",
       " {'priors': [0.3, 0.7], 'var_smoothing': 1e-11},\n",
       " {'priors': [0.3, 0.7], 'var_smoothing': 1e-10},\n",
       " {'priors': [0.3, 0.7], 'var_smoothing': 1e-09},\n",
       " {'priors': [0.3, 0.7], 'var_smoothing': 1e-08},\n",
       " {'priors': [0.3, 0.7], 'var_smoothing': 1e-07},\n",
       " {'priors': [0.3, 0.7], 'var_smoothing': 1e-06},\n",
       " {'priors': [0.6, 0.4], 'var_smoothing': 1e-12},\n",
       " {'priors': [0.6, 0.4], 'var_smoothing': 1e-11},\n",
       " {'priors': [0.6, 0.4], 'var_smoothing': 1e-10},\n",
       " {'priors': [0.6, 0.4], 'var_smoothing': 1e-09},\n",
       " {'priors': [0.6, 0.4], 'var_smoothing': 1e-08},\n",
       " {'priors': [0.6, 0.4], 'var_smoothing': 1e-07},\n",
       " {'priors': [0.6, 0.4], 'var_smoothing': 1e-06},\n",
       " {'priors': [0.5, 0.5], 'var_smoothing': 1e-12},\n",
       " {'priors': [0.5, 0.5], 'var_smoothing': 1e-11},\n",
       " {'priors': [0.5, 0.5], 'var_smoothing': 1e-10},\n",
       " {'priors': [0.5, 0.5], 'var_smoothing': 1e-09},\n",
       " {'priors': [0.5, 0.5], 'var_smoothing': 1e-08},\n",
       " {'priors': [0.5, 0.5], 'var_smoothing': 1e-07},\n",
       " {'priors': [0.5, 0.5], 'var_smoothing': 1e-06},\n",
       " {'priors': [0.6, 0.4], 'var_smoothing': 1e-12},\n",
       " {'priors': [0.6, 0.4], 'var_smoothing': 1e-11},\n",
       " {'priors': [0.6, 0.4], 'var_smoothing': 1e-10},\n",
       " {'priors': [0.6, 0.4], 'var_smoothing': 1e-09},\n",
       " {'priors': [0.6, 0.4], 'var_smoothing': 1e-08},\n",
       " {'priors': [0.6, 0.4], 'var_smoothing': 1e-07},\n",
       " {'priors': [0.6, 0.4], 'var_smoothing': 1e-06},\n",
       " {'priors': [0.7, 0.3], 'var_smoothing': 1e-12},\n",
       " {'priors': [0.7, 0.3], 'var_smoothing': 1e-11},\n",
       " {'priors': [0.7, 0.3], 'var_smoothing': 1e-10},\n",
       " {'priors': [0.7, 0.3], 'var_smoothing': 1e-09},\n",
       " {'priors': [0.7, 0.3], 'var_smoothing': 1e-08},\n",
       " {'priors': [0.7, 0.3], 'var_smoothing': 1e-07},\n",
       " {'priors': [0.7, 0.3], 'var_smoothing': 1e-06},\n",
       " {'priors': [0.8, 0.2], 'var_smoothing': 1e-12},\n",
       " {'priors': [0.8, 0.2], 'var_smoothing': 1e-11},\n",
       " {'priors': [0.8, 0.2], 'var_smoothing': 1e-10},\n",
       " {'priors': [0.8, 0.2], 'var_smoothing': 1e-09},\n",
       " {'priors': [0.8, 0.2], 'var_smoothing': 1e-08},\n",
       " {'priors': [0.8, 0.2], 'var_smoothing': 1e-07},\n",
       " {'priors': [0.8, 0.2], 'var_smoothing': 1e-06},\n",
       " {'priors': [0.9, 0.1], 'var_smoothing': 1e-12},\n",
       " {'priors': [0.9, 0.1], 'var_smoothing': 1e-11},\n",
       " {'priors': [0.9, 0.1], 'var_smoothing': 1e-10},\n",
       " {'priors': [0.9, 0.1], 'var_smoothing': 1e-09},\n",
       " {'priors': [0.9, 0.1], 'var_smoothing': 1e-08},\n",
       " {'priors': [0.9, 0.1], 'var_smoothing': 1e-07},\n",
       " {'priors': [0.9, 0.1], 'var_smoothing': 1e-06}]"
      ]
     },
     "execution_count": 21,
     "metadata": {},
     "output_type": "execute_result"
    }
   ],
   "source": [
    "list (ParameterGrid(hyperparameters))\n"
   ]
  },
  {
   "cell_type": "code",
   "execution_count": 22,
   "metadata": {},
   "outputs": [
    {
     "name": "stdout",
     "output_type": "stream",
     "text": [
      "{'priors': None, 'var_smoothing': 1e-12}\n",
      "Train acc: 88.13333333333333% \t Val acc: 84.6%\n",
      "\n",
      "{'priors': None, 'var_smoothing': 1e-11}\n",
      "Train acc: 88.13333333333333% \t Val acc: 84.6%\n",
      "\n",
      "{'priors': None, 'var_smoothing': 1e-10}\n",
      "Train acc: 88.13333333333333% \t Val acc: 84.6%\n",
      "\n",
      "{'priors': None, 'var_smoothing': 1e-09}\n",
      "Train acc: 88.13333333333333% \t Val acc: 84.6%\n",
      "\n",
      "{'priors': None, 'var_smoothing': 1e-08}\n",
      "Train acc: 88.13333333333333% \t Val acc: 84.6%\n",
      "\n",
      "{'priors': None, 'var_smoothing': 1e-07}\n",
      "Train acc: 88.13333333333333% \t Val acc: 84.6%\n",
      "\n",
      "{'priors': None, 'var_smoothing': 1e-06}\n",
      "Train acc: 88.13333333333333% \t Val acc: 84.6%\n",
      "\n",
      "{'priors': [0.1, 0.9], 'var_smoothing': 1e-12}\n",
      "Train acc: 87.6% \t Val acc: 83.6%\n",
      "\n",
      "{'priors': [0.1, 0.9], 'var_smoothing': 1e-11}\n",
      "Train acc: 87.6% \t Val acc: 83.6%\n",
      "\n",
      "{'priors': [0.1, 0.9], 'var_smoothing': 1e-10}\n",
      "Train acc: 87.6% \t Val acc: 83.6%\n",
      "\n",
      "{'priors': [0.1, 0.9], 'var_smoothing': 1e-09}\n",
      "Train acc: 87.6% \t Val acc: 83.6%\n",
      "\n",
      "{'priors': [0.1, 0.9], 'var_smoothing': 1e-08}\n",
      "Train acc: 87.6% \t Val acc: 83.6%\n",
      "\n",
      "{'priors': [0.1, 0.9], 'var_smoothing': 1e-07}\n",
      "Train acc: 87.6% \t Val acc: 83.6%\n",
      "\n",
      "{'priors': [0.1, 0.9], 'var_smoothing': 1e-06}\n",
      "Train acc: 87.6% \t Val acc: 83.6%\n",
      "\n",
      "{'priors': [0.2, 0.8], 'var_smoothing': 1e-12}\n",
      "Train acc: 87.73333333333333% \t Val acc: 84.0%\n",
      "\n",
      "{'priors': [0.2, 0.8], 'var_smoothing': 1e-11}\n",
      "Train acc: 87.73333333333333% \t Val acc: 84.0%\n",
      "\n",
      "{'priors': [0.2, 0.8], 'var_smoothing': 1e-10}\n",
      "Train acc: 87.73333333333333% \t Val acc: 84.0%\n",
      "\n",
      "{'priors': [0.2, 0.8], 'var_smoothing': 1e-09}\n",
      "Train acc: 87.73333333333333% \t Val acc: 84.0%\n",
      "\n",
      "{'priors': [0.2, 0.8], 'var_smoothing': 1e-08}\n",
      "Train acc: 87.73333333333333% \t Val acc: 84.0%\n",
      "\n",
      "{'priors': [0.2, 0.8], 'var_smoothing': 1e-07}\n",
      "Train acc: 87.73333333333333% \t Val acc: 84.0%\n",
      "\n",
      "{'priors': [0.2, 0.8], 'var_smoothing': 1e-06}\n",
      "Train acc: 87.73333333333333% \t Val acc: 84.0%\n",
      "\n",
      "{'priors': [0.3, 0.7], 'var_smoothing': 1e-12}\n",
      "Train acc: 88.13333333333333% \t Val acc: 84.2%\n",
      "\n",
      "{'priors': [0.3, 0.7], 'var_smoothing': 1e-11}\n",
      "Train acc: 88.13333333333333% \t Val acc: 84.2%\n",
      "\n",
      "{'priors': [0.3, 0.7], 'var_smoothing': 1e-10}\n",
      "Train acc: 88.13333333333333% \t Val acc: 84.2%\n",
      "\n",
      "{'priors': [0.3, 0.7], 'var_smoothing': 1e-09}\n",
      "Train acc: 88.13333333333333% \t Val acc: 84.2%\n",
      "\n",
      "{'priors': [0.3, 0.7], 'var_smoothing': 1e-08}\n",
      "Train acc: 88.13333333333333% \t Val acc: 84.2%\n",
      "\n",
      "{'priors': [0.3, 0.7], 'var_smoothing': 1e-07}\n",
      "Train acc: 88.13333333333333% \t Val acc: 84.2%\n",
      "\n",
      "{'priors': [0.3, 0.7], 'var_smoothing': 1e-06}\n",
      "Train acc: 88.13333333333333% \t Val acc: 84.2%\n",
      "\n",
      "{'priors': [0.6, 0.4], 'var_smoothing': 1e-12}\n",
      "Train acc: 88.13333333333333% \t Val acc: 85.2%\n",
      "\n",
      "{'priors': [0.6, 0.4], 'var_smoothing': 1e-11}\n",
      "Train acc: 88.13333333333333% \t Val acc: 85.2%\n",
      "\n",
      "{'priors': [0.6, 0.4], 'var_smoothing': 1e-10}\n",
      "Train acc: 88.13333333333333% \t Val acc: 85.2%\n",
      "\n",
      "{'priors': [0.6, 0.4], 'var_smoothing': 1e-09}\n",
      "Train acc: 88.13333333333333% \t Val acc: 85.2%\n",
      "\n",
      "{'priors': [0.6, 0.4], 'var_smoothing': 1e-08}\n",
      "Train acc: 88.13333333333333% \t Val acc: 85.2%\n",
      "\n",
      "{'priors': [0.6, 0.4], 'var_smoothing': 1e-07}\n",
      "Train acc: 88.13333333333333% \t Val acc: 85.2%\n",
      "\n",
      "{'priors': [0.6, 0.4], 'var_smoothing': 1e-06}\n",
      "Train acc: 88.13333333333333% \t Val acc: 85.2%\n",
      "\n",
      "{'priors': [0.5, 0.5], 'var_smoothing': 1e-12}\n",
      "Train acc: 88.13333333333333% \t Val acc: 84.6%\n",
      "\n",
      "{'priors': [0.5, 0.5], 'var_smoothing': 1e-11}\n",
      "Train acc: 88.13333333333333% \t Val acc: 84.6%\n",
      "\n",
      "{'priors': [0.5, 0.5], 'var_smoothing': 1e-10}\n",
      "Train acc: 88.13333333333333% \t Val acc: 84.6%\n",
      "\n",
      "{'priors': [0.5, 0.5], 'var_smoothing': 1e-09}\n",
      "Train acc: 88.13333333333333% \t Val acc: 84.6%\n",
      "\n",
      "{'priors': [0.5, 0.5], 'var_smoothing': 1e-08}\n",
      "Train acc: 88.13333333333333% \t Val acc: 84.6%\n",
      "\n",
      "{'priors': [0.5, 0.5], 'var_smoothing': 1e-07}\n",
      "Train acc: 88.13333333333333% \t Val acc: 84.6%\n",
      "\n",
      "{'priors': [0.5, 0.5], 'var_smoothing': 1e-06}\n",
      "Train acc: 88.13333333333333% \t Val acc: 84.6%\n",
      "\n",
      "{'priors': [0.6, 0.4], 'var_smoothing': 1e-12}\n",
      "Train acc: 88.13333333333333% \t Val acc: 85.2%\n",
      "\n",
      "{'priors': [0.6, 0.4], 'var_smoothing': 1e-11}\n",
      "Train acc: 88.13333333333333% \t Val acc: 85.2%\n",
      "\n",
      "{'priors': [0.6, 0.4], 'var_smoothing': 1e-10}\n",
      "Train acc: 88.13333333333333% \t Val acc: 85.2%\n",
      "\n",
      "{'priors': [0.6, 0.4], 'var_smoothing': 1e-09}\n",
      "Train acc: 88.13333333333333% \t Val acc: 85.2%\n",
      "\n",
      "{'priors': [0.6, 0.4], 'var_smoothing': 1e-08}\n",
      "Train acc: 88.13333333333333% \t Val acc: 85.2%\n",
      "\n",
      "{'priors': [0.6, 0.4], 'var_smoothing': 1e-07}\n",
      "Train acc: 88.13333333333333% \t Val acc: 85.2%\n",
      "\n",
      "{'priors': [0.6, 0.4], 'var_smoothing': 1e-06}\n",
      "Train acc: 88.13333333333333% \t Val acc: 85.2%\n",
      "\n",
      "{'priors': [0.7, 0.3], 'var_smoothing': 1e-12}\n",
      "Train acc: 87.73333333333333% \t Val acc: 85.39999999999999%\n",
      "\n",
      "{'priors': [0.7, 0.3], 'var_smoothing': 1e-11}\n",
      "Train acc: 87.73333333333333% \t Val acc: 85.39999999999999%\n",
      "\n",
      "{'priors': [0.7, 0.3], 'var_smoothing': 1e-10}\n",
      "Train acc: 87.73333333333333% \t Val acc: 85.39999999999999%\n",
      "\n",
      "{'priors': [0.7, 0.3], 'var_smoothing': 1e-09}\n",
      "Train acc: 87.73333333333333% \t Val acc: 85.39999999999999%\n",
      "\n",
      "{'priors': [0.7, 0.3], 'var_smoothing': 1e-08}\n",
      "Train acc: 87.73333333333333% \t Val acc: 85.39999999999999%\n",
      "\n",
      "{'priors': [0.7, 0.3], 'var_smoothing': 1e-07}\n",
      "Train acc: 87.73333333333333% \t Val acc: 85.39999999999999%\n",
      "\n",
      "{'priors': [0.7, 0.3], 'var_smoothing': 1e-06}\n",
      "Train acc: 87.73333333333333% \t Val acc: 85.39999999999999%\n",
      "\n",
      "{'priors': [0.8, 0.2], 'var_smoothing': 1e-12}\n",
      "Train acc: 87.26666666666667% \t Val acc: 84.6%\n",
      "\n",
      "{'priors': [0.8, 0.2], 'var_smoothing': 1e-11}\n",
      "Train acc: 87.26666666666667% \t Val acc: 84.6%\n",
      "\n",
      "{'priors': [0.8, 0.2], 'var_smoothing': 1e-10}\n",
      "Train acc: 87.26666666666667% \t Val acc: 84.6%\n",
      "\n",
      "{'priors': [0.8, 0.2], 'var_smoothing': 1e-09}\n",
      "Train acc: 87.26666666666667% \t Val acc: 84.6%\n",
      "\n",
      "{'priors': [0.8, 0.2], 'var_smoothing': 1e-08}\n",
      "Train acc: 87.26666666666667% \t Val acc: 84.6%\n",
      "\n",
      "{'priors': [0.8, 0.2], 'var_smoothing': 1e-07}\n",
      "Train acc: 87.26666666666667% \t Val acc: 84.6%\n",
      "\n",
      "{'priors': [0.8, 0.2], 'var_smoothing': 1e-06}\n",
      "Train acc: 87.26666666666667% \t Val acc: 84.6%\n",
      "\n",
      "{'priors': [0.9, 0.1], 'var_smoothing': 1e-12}\n",
      "Train acc: 87.2% \t Val acc: 85.0%\n",
      "\n",
      "{'priors': [0.9, 0.1], 'var_smoothing': 1e-11}\n",
      "Train acc: 87.2% \t Val acc: 85.0%\n",
      "\n",
      "{'priors': [0.9, 0.1], 'var_smoothing': 1e-10}\n",
      "Train acc: 87.2% \t Val acc: 85.0%\n",
      "\n",
      "{'priors': [0.9, 0.1], 'var_smoothing': 1e-09}\n",
      "Train acc: 87.2% \t Val acc: 85.0%\n",
      "\n",
      "{'priors': [0.9, 0.1], 'var_smoothing': 1e-08}\n",
      "Train acc: 87.2% \t Val acc: 85.0%\n",
      "\n",
      "{'priors': [0.9, 0.1], 'var_smoothing': 1e-07}\n",
      "Train acc: 87.2% \t Val acc: 85.0%\n",
      "\n",
      "{'priors': [0.9, 0.1], 'var_smoothing': 1e-06}\n",
      "Train acc: 87.2% \t Val acc: 85.0%\n",
      "\n",
      "Best accuracy:  85.39999999999999 %\n",
      "Best grid:  {'priors': [0.7, 0.3], 'var_smoothing': 1e-12}\n"
     ]
    }
   ],
   "source": [
    "best_score = 0\n",
    "for g in ParameterGrid(hyperparameters):\n",
    "    print(g)\n",
    "\n",
    "    seed_nb.set_params(**g)\n",
    "\n",
    "    seed_nb.fit(X_train, y_train)\n",
    "    predictions = seed_nb.predict(X_train)\n",
    "    train_acc = compute_accuracy(predictions, y_train)\n",
    "\n",
    "    predictions = seed_nb.predict(X_validation)\n",
    "    val_acc = compute_accuracy(predictions, y_validation)\n",
    "\n",
    "    print(f\"Train acc: {train_acc}% \\t Val acc: {val_acc}%\", end=\"\\n\\n\")\n",
    "\n",
    "    if val_acc > best_score:\n",
    "        best_score = val_acc\n",
    "        best_grid = g\n",
    "\n",
    "print(\"Best accuracy: \", best_score, \"%\")\n",
    "print(\"Best grid: \", best_grid)\n"
   ]
  },
  {
   "cell_type": "code",
   "execution_count": 23,
   "metadata": {},
   "outputs": [
    {
     "data": {
      "text/plain": [
       "{'priors': [0.7, 0.3], 'var_smoothing': 1e-12}"
      ]
     },
     "execution_count": 23,
     "metadata": {},
     "output_type": "execute_result"
    }
   ],
   "source": [
    "seed_nb = GaussianNB(**best_grid)\n",
    "seed_nb.get_params()\n"
   ]
  },
  {
   "cell_type": "code",
   "execution_count": 24,
   "metadata": {},
   "outputs": [
    {
     "data": {
      "text/html": [
       "<style>#sk-container-id-2 {color: black;}#sk-container-id-2 pre{padding: 0;}#sk-container-id-2 div.sk-toggleable {background-color: white;}#sk-container-id-2 label.sk-toggleable__label {cursor: pointer;display: block;width: 100%;margin-bottom: 0;padding: 0.3em;box-sizing: border-box;text-align: center;}#sk-container-id-2 label.sk-toggleable__label-arrow:before {content: \"▸\";float: left;margin-right: 0.25em;color: #696969;}#sk-container-id-2 label.sk-toggleable__label-arrow:hover:before {color: black;}#sk-container-id-2 div.sk-estimator:hover label.sk-toggleable__label-arrow:before {color: black;}#sk-container-id-2 div.sk-toggleable__content {max-height: 0;max-width: 0;overflow: hidden;text-align: left;background-color: #f0f8ff;}#sk-container-id-2 div.sk-toggleable__content pre {margin: 0.2em;color: black;border-radius: 0.25em;background-color: #f0f8ff;}#sk-container-id-2 input.sk-toggleable__control:checked~div.sk-toggleable__content {max-height: 200px;max-width: 100%;overflow: auto;}#sk-container-id-2 input.sk-toggleable__control:checked~label.sk-toggleable__label-arrow:before {content: \"▾\";}#sk-container-id-2 div.sk-estimator input.sk-toggleable__control:checked~label.sk-toggleable__label {background-color: #d4ebff;}#sk-container-id-2 div.sk-label input.sk-toggleable__control:checked~label.sk-toggleable__label {background-color: #d4ebff;}#sk-container-id-2 input.sk-hidden--visually {border: 0;clip: rect(1px 1px 1px 1px);clip: rect(1px, 1px, 1px, 1px);height: 1px;margin: -1px;overflow: hidden;padding: 0;position: absolute;width: 1px;}#sk-container-id-2 div.sk-estimator {font-family: monospace;background-color: #f0f8ff;border: 1px dotted black;border-radius: 0.25em;box-sizing: border-box;margin-bottom: 0.5em;}#sk-container-id-2 div.sk-estimator:hover {background-color: #d4ebff;}#sk-container-id-2 div.sk-parallel-item::after {content: \"\";width: 100%;border-bottom: 1px solid gray;flex-grow: 1;}#sk-container-id-2 div.sk-label:hover label.sk-toggleable__label {background-color: #d4ebff;}#sk-container-id-2 div.sk-serial::before {content: \"\";position: absolute;border-left: 1px solid gray;box-sizing: border-box;top: 0;bottom: 0;left: 50%;z-index: 0;}#sk-container-id-2 div.sk-serial {display: flex;flex-direction: column;align-items: center;background-color: white;padding-right: 0.2em;padding-left: 0.2em;position: relative;}#sk-container-id-2 div.sk-item {position: relative;z-index: 1;}#sk-container-id-2 div.sk-parallel {display: flex;align-items: stretch;justify-content: center;background-color: white;position: relative;}#sk-container-id-2 div.sk-item::before, #sk-container-id-2 div.sk-parallel-item::before {content: \"\";position: absolute;border-left: 1px solid gray;box-sizing: border-box;top: 0;bottom: 0;left: 50%;z-index: -1;}#sk-container-id-2 div.sk-parallel-item {display: flex;flex-direction: column;z-index: 1;position: relative;background-color: white;}#sk-container-id-2 div.sk-parallel-item:first-child::after {align-self: flex-end;width: 50%;}#sk-container-id-2 div.sk-parallel-item:last-child::after {align-self: flex-start;width: 50%;}#sk-container-id-2 div.sk-parallel-item:only-child::after {width: 0;}#sk-container-id-2 div.sk-dashed-wrapped {border: 1px dashed gray;margin: 0 0.4em 0.5em 0.4em;box-sizing: border-box;padding-bottom: 0.4em;background-color: white;}#sk-container-id-2 div.sk-label label {font-family: monospace;font-weight: bold;display: inline-block;line-height: 1.2em;}#sk-container-id-2 div.sk-label-container {text-align: center;}#sk-container-id-2 div.sk-container {/* jupyter's `normalize.less` sets `[hidden] { display: none; }` but bootstrap.min.css set `[hidden] { display: none !important; }` so we also need the `!important` here to be able to override the default hidden behavior on the sphinx rendered scikit-learn.org. See: https://github.com/scikit-learn/scikit-learn/issues/21755 */display: inline-block !important;position: relative;}#sk-container-id-2 div.sk-text-repr-fallback {display: none;}</style><div id=\"sk-container-id-2\" class=\"sk-top-container\"><div class=\"sk-text-repr-fallback\"><pre>GaussianNB(priors=[0.7, 0.3], var_smoothing=1e-12)</pre><b>In a Jupyter environment, please rerun this cell to show the HTML representation or trust the notebook. <br />On GitHub, the HTML representation is unable to render, please try loading this page with nbviewer.org.</b></div><div class=\"sk-container\" hidden><div class=\"sk-item\"><div class=\"sk-estimator sk-toggleable\"><input class=\"sk-toggleable__control sk-hidden--visually\" id=\"sk-estimator-id-2\" type=\"checkbox\" checked><label for=\"sk-estimator-id-2\" class=\"sk-toggleable__label sk-toggleable__label-arrow\">GaussianNB</label><div class=\"sk-toggleable__content\"><pre>GaussianNB(priors=[0.7, 0.3], var_smoothing=1e-12)</pre></div></div></div></div></div>"
      ],
      "text/plain": [
       "GaussianNB(priors=[0.7, 0.3], var_smoothing=1e-12)"
      ]
     },
     "execution_count": 24,
     "metadata": {},
     "output_type": "execute_result"
    }
   ],
   "source": [
    "seed_nb.fit(X_train_val, y_train_val)\n"
   ]
  },
  {
   "cell_type": "code",
   "execution_count": 25,
   "metadata": {},
   "outputs": [],
   "source": [
    "predictions = seed_nb.predict(X_test)\n"
   ]
  },
  {
   "cell_type": "code",
   "execution_count": 26,
   "metadata": {},
   "outputs": [
    {
     "name": "stdout",
     "output_type": "stream",
     "text": [
      "Test accuracy:  85.2 %\n"
     ]
    }
   ],
   "source": [
    "print(\"Test accuracy: \", compute_accuracy(predictions, y_test), \"%\")\n"
   ]
  },
  {
   "cell_type": "code",
   "execution_count": null,
   "metadata": {},
   "outputs": [],
   "source": []
  }
 ],
 "metadata": {
  "kernelspec": {
   "display_name": "Python 3 (ipykernel)",
   "language": "python",
   "name": "python3"
  },
  "language_info": {
   "codemirror_mode": {
    "name": "ipython",
    "version": 3
   },
   "file_extension": ".py",
   "mimetype": "text/x-python",
   "name": "python",
   "nbconvert_exporter": "python",
   "pygments_lexer": "ipython3",
   "version": "3.9.18"
  }
 },
 "nbformat": 4,
 "nbformat_minor": 2
}
